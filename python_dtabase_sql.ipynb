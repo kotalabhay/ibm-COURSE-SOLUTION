{
    "nbformat_minor": 1, 
    "cells": [
        {
            "source": "import ibm_db", 
            "cell_type": "code", 
            "execution_count": 1, 
            "outputs": [], 
            "metadata": {}
        }, 
        {
            "source": "\ndsn_hostname = \"dashdb-txn-sbox-yp-lon02-02.services.eu-gb.bluemix.net\" \ndsn_uid = \"jlh81393\"        # e.g. \"abc12345\"\ndsn_pwd = \"2j9q@8ft3wh40tpm\"    \n\ndsn_driver = \"{IBM DB2 ODBC DRIVER}\"\ndsn_database = \"BLUDB\"            # e.g. \"BLUDB\"\ndsn_port = \"50000\"                # e.g. \"50000\" \ndsn_protocol = \"TCPIP\"            # i.e. \"TCPIP\"", 
            "cell_type": "code", 
            "execution_count": 2, 
            "outputs": [], 
            "metadata": {}
        }, 
        {
            "source": "#DO NOT MODIFY THIS CELL. Just RUN it with Shift + Enter\n#Create the dsn connection string\ndsn = (\n    \"DRIVER={0};\"\n    \"DATABASE={1};\"\n    \"HOSTNAME={2};\"\n    \"PORT={3};\"\n    \"PROTOCOL={4};\"\n    \"UID={5};\"\n    \"PWD={6};\").format(dsn_driver, dsn_database, dsn_hostname, dsn_port, dsn_protocol, dsn_uid, dsn_pwd)\n\n#print the connection string to check correct values are specified\nprint(dsn)", 
            "cell_type": "code", 
            "execution_count": 3, 
            "outputs": [
                {
                    "output_type": "stream", 
                    "name": "stdout", 
                    "text": "DRIVER={IBM DB2 ODBC DRIVER};DATABASE=BLUDB;HOSTNAME=dashdb-txn-sbox-yp-lon02-02.services.eu-gb.bluemix.net;PORT=50000;PROTOCOL=TCPIP;UID=jlh81393;PWD=2j9q@8ft3wh40tpm;\n"
                }
            ], 
            "metadata": {}
        }, 
        {
            "source": "#DO NOT MODIFY THIS CELL. Just RUN it with Shift + Enter\n#Create database connection\n\ntry:\n    conn = ibm_db.connect(dsn, \"\", \"\")\n    print (\"Connected to database: \", dsn_database, \"as user: \", dsn_uid, \"on host: \", dsn_hostname)\n\nexcept:\n    print (\"Unable to connect: \", ibm_db.conn_errormsg() )\n", 
            "cell_type": "code", 
            "execution_count": 4, 
            "outputs": [
                {
                    "output_type": "stream", 
                    "name": "stdout", 
                    "text": "Connected to database:  BLUDB as user:  jlh81393 on host:  dashdb-txn-sbox-yp-lon02-02.services.eu-gb.bluemix.net\n"
                }
            ], 
            "metadata": {}
        }, 
        {
            "source": "#Retrieve Metadata for the Database Server\nserver = ibm_db.server_info(conn)\n\nprint (\"DBMS_NAME: \", server.DBMS_NAME)\nprint (\"DBMS_VER:  \", server.DBMS_VER)\nprint (\"DB_NAME:   \", server.DB_NAME)", 
            "cell_type": "code", 
            "execution_count": 5, 
            "outputs": [
                {
                    "output_type": "stream", 
                    "name": "stdout", 
                    "text": "DBMS_NAME:  DB2/LINUXX8664\nDBMS_VER:   11.01.0404\nDB_NAME:    BLUDB\n"
                }
            ], 
            "metadata": {}
        }, 
        {
            "source": "import pandas as pd\nimport ibm_db_dbi", 
            "cell_type": "code", 
            "execution_count": 6, 
            "outputs": [], 
            "metadata": {}
        }, 
        {
            "source": "pconn = ibm_db_dbi.Connection(conn)", 
            "cell_type": "code", 
            "execution_count": 7, 
            "outputs": [], 
            "metadata": {}
        }, 
        {
            "source": "#query statement to retrieve all rows in INSTRUCTOR table\nselectQuery = \"select * from CRIME\"\n\n#retrieve the query results into a pandas dataframe\nCRIMES = pd.read_sql(selectQuery, pconn)\n\n", 
            "cell_type": "code", 
            "execution_count": 8, 
            "outputs": [], 
            "metadata": {}
        }, 
        {
            "source": "%load_ext sql\n%sql db2+ibm_db://jlh81393:2j9q%408ft3wh40tpm@dashdb-txn-sbox-yp-lon02-02.services.eu-gb.bluemix.net:50000/BLUDB", 
            "cell_type": "code", 
            "execution_count": 10, 
            "outputs": [
                {
                    "execution_count": 10, 
                    "output_type": "execute_result", 
                    "data": {
                        "text/plain": "'Connected: jlh81393@BLUDB'"
                    }, 
                    "metadata": {}
                }
            ], 
            "metadata": {}
        }, 
        {
            "source": "Find the total number of crimes recorded in the Crime table ", 
            "cell_type": "markdown", 
            "metadata": {}
        }, 
        {
            "source": "%sql select COUNT(id) from CRIME", 
            "cell_type": "code", 
            "execution_count": 11, 
            "outputs": [
                {
                    "output_type": "stream", 
                    "name": "stdout", 
                    "text": " * db2+ibm_db://jlh81393:***@dashdb-txn-sbox-yp-lon02-02.services.eu-gb.bluemix.net:50000/BLUDB\nDone.\n"
                }, 
                {
                    "execution_count": 11, 
                    "output_type": "execute_result", 
                    "data": {
                        "text/plain": "[(Decimal('533'),)]", 
                        "text/html": "<table>\n    <tr>\n        <th>1</th>\n    </tr>\n    <tr>\n        <td>533</td>\n    </tr>\n</table>"
                    }, 
                    "metadata": {}
                }
            ], 
            "metadata": {}
        }, 
        {
            "source": "Problem 2: Retrieve first 10 rows from the CRIME table", 
            "cell_type": "markdown", 
            "metadata": {}
        }, 
        {
            "source": "%sql select id, case_number, iucr, primary_type from CRIME limit 10", 
            "cell_type": "code", 
            "execution_count": 16, 
            "outputs": [
                {
                    "output_type": "stream", 
                    "name": "stdout", 
                    "text": " * db2+ibm_db://jlh81393:***@dashdb-txn-sbox-yp-lon02-02.services.eu-gb.bluemix.net:50000/BLUDB\nDone.\n"
                }, 
                {
                    "execution_count": 16, 
                    "output_type": "execute_result", 
                    "data": {
                        "text/plain": "[(3512276, 'HK587712', '890', 'THEFT'),\n (3406613, 'HK456306', '820', 'THEFT'),\n (8002131, 'HT233595', '820', 'THEFT'),\n (7903289, 'HT133522', '840', 'THEFT'),\n (10402076, 'HZ138551', '820', 'THEFT'),\n (7732712, 'HS540106', '810', 'THEFT'),\n (10769475, 'HZ534771', '810', 'THEFT'),\n (4494340, 'HL793243', '860', 'THEFT'),\n (3778925, 'HL149610', '810', 'THEFT'),\n (3324217, 'HK361551', '820', 'THEFT')]", 
                        "text/html": "<table>\n    <tr>\n        <th>id</th>\n        <th>case_number</th>\n        <th>iucr</th>\n        <th>primary_type</th>\n    </tr>\n    <tr>\n        <td>3512276</td>\n        <td>HK587712</td>\n        <td>890</td>\n        <td>THEFT</td>\n    </tr>\n    <tr>\n        <td>3406613</td>\n        <td>HK456306</td>\n        <td>820</td>\n        <td>THEFT</td>\n    </tr>\n    <tr>\n        <td>8002131</td>\n        <td>HT233595</td>\n        <td>820</td>\n        <td>THEFT</td>\n    </tr>\n    <tr>\n        <td>7903289</td>\n        <td>HT133522</td>\n        <td>840</td>\n        <td>THEFT</td>\n    </tr>\n    <tr>\n        <td>10402076</td>\n        <td>HZ138551</td>\n        <td>820</td>\n        <td>THEFT</td>\n    </tr>\n    <tr>\n        <td>7732712</td>\n        <td>HS540106</td>\n        <td>810</td>\n        <td>THEFT</td>\n    </tr>\n    <tr>\n        <td>10769475</td>\n        <td>HZ534771</td>\n        <td>810</td>\n        <td>THEFT</td>\n    </tr>\n    <tr>\n        <td>4494340</td>\n        <td>HL793243</td>\n        <td>860</td>\n        <td>THEFT</td>\n    </tr>\n    <tr>\n        <td>3778925</td>\n        <td>HL149610</td>\n        <td>810</td>\n        <td>THEFT</td>\n    </tr>\n    <tr>\n        <td>3324217</td>\n        <td>HK361551</td>\n        <td>820</td>\n        <td>THEFT</td>\n    </tr>\n</table>"
                    }, 
                    "metadata": {}
                }
            ], 
            "metadata": {}
        }, 
        {
            "source": "Problem 3: How many crimes involve an arrest", 
            "cell_type": "markdown", 
            "metadata": {}
        }, 
        {
            "source": "%sql select COUNT(id) AS total_crimes_involving_arrest from CRIME where arrest = 'TRUE'", 
            "cell_type": "code", 
            "execution_count": 17, 
            "outputs": [
                {
                    "output_type": "stream", 
                    "name": "stdout", 
                    "text": " * db2+ibm_db://jlh81393:***@dashdb-txn-sbox-yp-lon02-02.services.eu-gb.bluemix.net:50000/BLUDB\nDone.\n"
                }, 
                {
                    "execution_count": 17, 
                    "output_type": "execute_result", 
                    "data": {
                        "text/plain": "[(Decimal('163'),)]", 
                        "text/html": "<table>\n    <tr>\n        <th>total_crimes_involving_arrest</th>\n    </tr>\n    <tr>\n        <td>163</td>\n    </tr>\n</table>"
                    }, 
                    "metadata": {}
                }
            ], 
            "metadata": {}
        }, 
        {
            "source": "Problem 4: Which unique types of crimes have been recorded at a GAS STATION?", 
            "cell_type": "markdown", 
            "metadata": {}
        }, 
        {
            "source": "%sql select DISTINCT(primary_type) AS gas_station_crimes from CRIME where location_description = 'GAS STATION'", 
            "cell_type": "code", 
            "execution_count": 18, 
            "outputs": [
                {
                    "output_type": "stream", 
                    "name": "stdout", 
                    "text": " * db2+ibm_db://jlh81393:***@dashdb-txn-sbox-yp-lon02-02.services.eu-gb.bluemix.net:50000/BLUDB\nDone.\n"
                }, 
                {
                    "execution_count": 18, 
                    "output_type": "execute_result", 
                    "data": {
                        "text/plain": "[('CRIMINAL TRESPASS',), ('NARCOTICS',), ('ROBBERY',), ('THEFT',)]", 
                        "text/html": "<table>\n    <tr>\n        <th>gas_station_crimes</th>\n    </tr>\n    <tr>\n        <td>CRIMINAL TRESPASS</td>\n    </tr>\n    <tr>\n        <td>NARCOTICS</td>\n    </tr>\n    <tr>\n        <td>ROBBERY</td>\n    </tr>\n    <tr>\n        <td>THEFT</td>\n    </tr>\n</table>"
                    }, 
                    "metadata": {}
                }
            ], 
            "metadata": {}
        }, 
        {
            "source": "Problem 5: In the CENUS_DATA table list all community areas whose names start with the letter \u2018B\u2019", 
            "cell_type": "markdown", 
            "metadata": {}
        }, 
        {
            "source": "%sql select community_area_name from CENSUS where community_area_name like 'B%'", 
            "cell_type": "code", 
            "execution_count": 20, 
            "outputs": [
                {
                    "output_type": "stream", 
                    "name": "stdout", 
                    "text": " * db2+ibm_db://jlh81393:***@dashdb-txn-sbox-yp-lon02-02.services.eu-gb.bluemix.net:50000/BLUDB\nDone.\n"
                }, 
                {
                    "execution_count": 20, 
                    "output_type": "execute_result", 
                    "data": {
                        "text/plain": "[('Belmont Cragin',),\n ('Burnside',),\n ('Brighton Park',),\n ('Bridgeport',),\n ('Beverly',)]", 
                        "text/html": "<table>\n    <tr>\n        <th>community_area_name</th>\n    </tr>\n    <tr>\n        <td>Belmont Cragin</td>\n    </tr>\n    <tr>\n        <td>Burnside</td>\n    </tr>\n    <tr>\n        <td>Brighton Park</td>\n    </tr>\n    <tr>\n        <td>Bridgeport</td>\n    </tr>\n    <tr>\n        <td>Beverly</td>\n    </tr>\n</table>"
                    }, 
                    "metadata": {}
                }
            ], 
            "metadata": {}
        }, 
        {
            "source": "Problem 6: List the schools in Community Areas 10 to 15 that are healthy school certified?", 
            "cell_type": "markdown", 
            "metadata": {}
        }, 
        {
            "source": "%%sql select name_of_school, healthy_school_certified\nfrom PUBLIC_SCHOOL \nwhere healthy_school_certified = 'Yes' AND community_area_number between 10 and 15", 
            "cell_type": "code", 
            "execution_count": 22, 
            "outputs": [
                {
                    "output_type": "stream", 
                    "name": "stdout", 
                    "text": " * db2+ibm_db://jlh81393:***@dashdb-txn-sbox-yp-lon02-02.services.eu-gb.bluemix.net:50000/BLUDB\nDone.\n"
                }, 
                {
                    "execution_count": 22, 
                    "output_type": "execute_result", 
                    "data": {
                        "text/plain": "[('Rufus M Hitch Elementary School', 'Yes')]", 
                        "text/html": "<table>\n    <tr>\n        <th>name_of_school</th>\n        <th>healthy_school_certified</th>\n    </tr>\n    <tr>\n        <td>Rufus M Hitch Elementary School</td>\n        <td>Yes</td>\n    </tr>\n</table>"
                    }, 
                    "metadata": {}
                }
            ], 
            "metadata": {}
        }, 
        {
            "source": "Problem 7: What is the average school Safety Score?", 
            "cell_type": "markdown", 
            "metadata": {}
        }, 
        {
            "source": "%sql select AVG(Safety_Score) AS average_school_safety_score from PUBLIC_SCHOOL", 
            "cell_type": "code", 
            "execution_count": 23, 
            "outputs": [
                {
                    "output_type": "stream", 
                    "name": "stdout", 
                    "text": " * db2+ibm_db://jlh81393:***@dashdb-txn-sbox-yp-lon02-02.services.eu-gb.bluemix.net:50000/BLUDB\nDone.\n"
                }, 
                {
                    "execution_count": 23, 
                    "output_type": "execute_result", 
                    "data": {
                        "text/plain": "[(Decimal('49.504873'),)]", 
                        "text/html": "<table>\n    <tr>\n        <th>average_school_safety_score</th>\n    </tr>\n    <tr>\n        <td>49.504873</td>\n    </tr>\n</table>"
                    }, 
                    "metadata": {}
                }
            ], 
            "metadata": {}
        }, 
        {
            "source": "Problem 8: List the top 5 Community Areas by average College Enrollments [number of students]", 
            "cell_type": "markdown", 
            "metadata": {}
        }, 
        {
            "source": "%%sql select community_area_name, AVG(college_enrollment) AS average_college_enrollment\nfrom PUBLIC_SCHOOL\ngroup by community_area_name\norder by average_college_enrollment desc limit 5", 
            "cell_type": "code", 
            "execution_count": 24, 
            "outputs": [
                {
                    "output_type": "stream", 
                    "name": "stdout", 
                    "text": " * db2+ibm_db://jlh81393:***@dashdb-txn-sbox-yp-lon02-02.services.eu-gb.bluemix.net:50000/BLUDB\nDone.\n"
                }, 
                {
                    "execution_count": 24, 
                    "output_type": "execute_result", 
                    "data": {
                        "text/plain": "[('ARCHER HEIGHTS', Decimal('2411.500000')),\n ('MONTCLARE', Decimal('1317.000000')),\n ('WEST ELSDON', Decimal('1233.333333')),\n ('BRIGHTON PARK', Decimal('1205.875000')),\n ('BELMONT CRAGIN', Decimal('1198.833333'))]", 
                        "text/html": "<table>\n    <tr>\n        <th>community_area_name</th>\n        <th>average_college_enrollment</th>\n    </tr>\n    <tr>\n        <td>ARCHER HEIGHTS</td>\n        <td>2411.500000</td>\n    </tr>\n    <tr>\n        <td>MONTCLARE</td>\n        <td>1317.000000</td>\n    </tr>\n    <tr>\n        <td>WEST ELSDON</td>\n        <td>1233.333333</td>\n    </tr>\n    <tr>\n        <td>BRIGHTON PARK</td>\n        <td>1205.875000</td>\n    </tr>\n    <tr>\n        <td>BELMONT CRAGIN</td>\n        <td>1198.833333</td>\n    </tr>\n</table>"
                    }, 
                    "metadata": {}
                }
            ], 
            "metadata": {}
        }, 
        {
            "source": "Problem 9: Use a sub-query to determine which Community Area has the least value for Safety Score?", 
            "cell_type": "markdown", 
            "metadata": {}
        }, 
        {
            "source": "%%sql select  community_area_name\nfrom PUBLIC_SCHOOL\nwhere safety_score = (select MIN(safety_score) from  PUBLIC_SCHOOL)", 
            "cell_type": "code", 
            "execution_count": 26, 
            "outputs": [
                {
                    "output_type": "stream", 
                    "name": "stdout", 
                    "text": " * db2+ibm_db://jlh81393:***@dashdb-txn-sbox-yp-lon02-02.services.eu-gb.bluemix.net:50000/BLUDB\nDone.\n"
                }, 
                {
                    "execution_count": 26, 
                    "output_type": "execute_result", 
                    "data": {
                        "text/plain": "[('WASHINGTON PARK',)]", 
                        "text/html": "<table>\n    <tr>\n        <th>community_area_name</th>\n    </tr>\n    <tr>\n        <td>WASHINGTON PARK</td>\n    </tr>\n</table>"
                    }, 
                    "metadata": {}
                }
            ], 
            "metadata": {}
        }, 
        {
            "source": "Problem 10: Find the Per Capita Income of the Community Area which has a school Safety Score of 1.", 
            "cell_type": "markdown", 
            "metadata": {}
        }, 
        {
            "source": "%%sql select  per_capita_income \nfrom CENSUS\nwhere community_area_number = (select community_area_number from PUBLIC_SCHOOL where safety_score = 1)", 
            "cell_type": "code", 
            "execution_count": null, 
            "outputs": [], 
            "metadata": {}
        }
    ], 
    "nbformat": 4, 
    "metadata": {
        "kernelspec": {
            "display_name": "Python 3.6", 
            "name": "python3", 
            "language": "python"
        }, 
        "language_info": {
            "mimetype": "text/x-python", 
            "nbconvert_exporter": "python", 
            "version": "3.6.8", 
            "name": "python", 
            "pygments_lexer": "ipython3", 
            "file_extension": ".py", 
            "codemirror_mode": {
                "version": 3, 
                "name": "ipython"
            }
        }
    }
}